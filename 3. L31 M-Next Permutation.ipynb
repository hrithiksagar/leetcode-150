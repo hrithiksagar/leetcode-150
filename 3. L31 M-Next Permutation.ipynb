{
 "cells": [
  {
   "cell_type": "markdown",
   "metadata": {},
   "source": [
    "https://leetcode.com/problems/next-permutation/description/\n",
    "- Topics: Arrays, Two Pointer\n",
    "- Medium"
   ]
  },
  {
   "cell_type": "markdown",
   "metadata": {},
   "source": [
    "A permutation of an array of integers is an arrangement of its members into a sequence or linear order.\n",
    "\n",
    "For example, for arr = [1,2,3], the following are all the permutations of arr: [1,2,3], [1,3,2], [2, 1, 3], [2, 3, 1], [3,1,2], [3,2,1].\n",
    "The next permutation of an array of integers is the next lexicographically greater permutation of its integer. More formally, if all the permutations of the array are sorted in one container according to their lexicographical order, then the next permutation of that array is the permutation that follows it in the sorted container. If such arrangement is not possible, the array must be rearranged as the lowest possible order (i.e., sorted in ascending order).\n",
    "\n",
    "For example, the next permutation of arr = [1,2,3] is [1,3,2].\n",
    "Similarly, the next permutation of arr = [2,3,1] is [3,1,2].\n",
    "While the next permutation of arr = [3,2,1] is [1,2,3] because [3,2,1] does not have a lexicographical larger rearrangement.\n",
    "Given an array of integers nums, find the next permutation of nums.\n",
    "\n",
    "The replacement must be in place and use only constant extra memory.\n",
    "\n",
    " \n",
    "\n",
    "Example 1:\n",
    "\n",
    "Input: nums = [1,2,3]\n",
    "Output: [1,3,2]\n",
    "Example 2:\n",
    "\n",
    "Input: nums = [3,2,1]\n",
    "Output: [1,2,3]\n",
    "Example 3:\n",
    "\n",
    "Input: nums = [1,1,5]\n",
    "Output: [1,5,1]"
   ]
  },
  {
   "cell_type": "code",
   "execution_count": 4,
   "metadata": {},
   "outputs": [
    {
     "data": {
      "text/plain": [
       "[2, 1]"
      ]
     },
     "execution_count": 4,
     "metadata": {},
     "output_type": "execute_result"
    }
   ],
   "source": [
    "def nextPermutation(nums):\n",
    "    \"\"\"\n",
    "    :type nums: List[int]\n",
    "    :rtype: None Do not return anything, modify nums in-place instead.\n",
    "    \"\"\"\n",
    "    \n",
    "    length = len(nums)\n",
    "    if length <= 2:\n",
    "        return nums[::-1]\n",
    "\n",
    "    pointer = length - 2 # startslast but one element\n",
    "    while pointer >= 0 and nums[pointer]>= nums[pointer+1]: #move pointer until we find ending of some sort of decending, and weather the current element is greater than or equal to next element \n",
    "        \n",
    "        pointer -= 1 # we decrease value of pointer but there might be a point where our pointer might reach all the way tro 0th index at that poiunt it will have negative value, which will make pointer will be the last iteration, since it started we have a downward descent, so we go back to very first combination i.e. we exhausted all the possible combinations and couldnt find the next one, so we return the very first one in the cycle, lowest will be the reverse of it\n",
    "        \n",
    "    if pointer ==-1:\n",
    "        return nums.reverse() # now that we want to look for the numbers, that comes after it, to do that we need to iterate from ending\n",
    "    \n",
    "    for x in range(length-1, pointer, -1): #from last number to the pointer but not including pointer and in decreasing order\n",
    "        if nums[pointer]<nums[x]: #we do replacement\n",
    "            nums[pointer], nums[x] = nums[x], nums[pointer] #switiching position\n",
    "            break\n",
    "    \n",
    "    # now after this loop, we need to do one last thing, every thing after pointer and change them and reverse it. they are in descending order, so we make it ascending order\n",
    "    nums[pointer+1:] = reversed(nums[pointer+1:]) #: represents all the way to end, reversing is similar to sorting it\n",
    "    return nums\n",
    "\n",
    "nums = [1,2]\n",
    "nextPermutation(nums)"
   ]
  },
  {
   "cell_type": "code",
   "execution_count": null,
   "metadata": {},
   "outputs": [],
   "source": []
  }
 ],
 "metadata": {
  "kernelspec": {
   "display_name": "venv1",
   "language": "python",
   "name": "python3"
  },
  "language_info": {
   "codemirror_mode": {
    "name": "ipython",
    "version": 3
   },
   "file_extension": ".py",
   "mimetype": "text/x-python",
   "name": "python",
   "nbconvert_exporter": "python",
   "pygments_lexer": "ipython3",
   "version": "3.11.6"
  }
 },
 "nbformat": 4,
 "nbformat_minor": 2
}
