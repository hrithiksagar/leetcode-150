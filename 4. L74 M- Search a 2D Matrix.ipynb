{
 "cells": [
  {
   "cell_type": "markdown",
   "metadata": {},
   "source": [
    "\n",
    "Medium https://leetcode.com/problems/search-a-2d-matrix/description/\n",
    "- Array\n",
    "- Binary Search\n",
    "- Matrix"
   ]
  },
  {
   "cell_type": "code",
   "execution_count": 4,
   "metadata": {},
   "outputs": [
    {
     "data": {
      "text/plain": [
       "True"
      ]
     },
     "execution_count": 4,
     "metadata": {},
     "output_type": "execute_result"
    }
   ],
   "source": [
    "def searchMatrix(matrix,target):\n",
    "    # # not an optimal solution = this sol time = O(m*n)\n",
    "    # for i in matrix:\n",
    "    #     for j in i:\n",
    "    #         if i==target or j==target:\n",
    "    #             return True\n",
    "\n",
    "    # return False\n",
    "\n",
    "    # # optimal Solution\n",
    "    #using binary search and making use of the property given as the array is in sorted array, each row is also in sorted array\n",
    "    # binary search to figure out which row is our value actually in. \n",
    "    # if the item is in left dir we can corss whole right dir\n",
    "    # in total we can do 2 binary searches, \n",
    "    # 1 for row, and 1 for items inside perticular row\n",
    "    # log m + log n = log(m*n)\n",
    "\n",
    "    # Double Binary Search\n",
    "\n",
    "    ROWS, COLS = len(matrix), len(matrix[0]) # get dimensions\n",
    "    top = 0\n",
    "    bot = ROWS-1\n",
    "    while top<=bot:\n",
    "        row = (top+bot)//2\n",
    "        if target>matrix[row][-1]: # until we find the max element\n",
    "            # then we need to look value in more higher rows\n",
    "            top = row + 1\n",
    "        elif target<matrix[row][0]:\n",
    "            # we need to look at rows in smaller values\n",
    "            bot  = row - 1\n",
    "\n",
    "        else:\n",
    "            # in this case, the target value is actually in this specific row so we need to get out of this loop and use another binary search in this particular row's elements\n",
    "            break\n",
    "        \n",
    "    \n",
    "    # if none of the rows contains target value then we need ot return false  \n",
    "    if not (top<=bot):\n",
    "        return False # if not top is less or equal to bottom that means none of the rows contains target value\n",
    "\n",
    "# 2nd portion of binary search (2nd binary search)\n",
    "    row = (top+bot)//2\n",
    "    l, r = 0, COLS-1\n",
    "    while l<= r:\n",
    "        m = (l+r)//2\n",
    "        if target > matrix[row][m]:\n",
    "            #we need to search towards right then left pointer will change to middle + 1\n",
    "            l = m+1\n",
    "        elif target < matrix[row][m]:\n",
    "            r =m -1\n",
    "        else:\n",
    "            return True\n",
    "    return False\n",
    "\n",
    "matrix = [[1,3,5,7],[10,11,16,20],[23,30,34,60]]\n",
    "target = 3\n",
    "searchMatrix(matrix, target)"
   ]
  },
  {
   "cell_type": "code",
   "execution_count": null,
   "metadata": {},
   "outputs": [],
   "source": []
  }
 ],
 "metadata": {
  "kernelspec": {
   "display_name": "venv1",
   "language": "python",
   "name": "python3"
  },
  "language_info": {
   "codemirror_mode": {
    "name": "ipython",
    "version": 3
   },
   "file_extension": ".py",
   "mimetype": "text/x-python",
   "name": "python",
   "nbconvert_exporter": "python",
   "pygments_lexer": "ipython3",
   "version": "3.11.6"
  }
 },
 "nbformat": 4,
 "nbformat_minor": 2
}
