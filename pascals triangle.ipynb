{
 "cells": [
  {
   "cell_type": "code",
   "execution_count": 29,
   "metadata": {},
   "outputs": [
    {
     "name": "stdout",
     "output_type": "stream",
     "text": [
      "[0, 1, 0]\n",
      "temp[j] = 0\n",
      "temp[j+1] =  1\n",
      "2nd loop =  [1]\n",
      "temp[j] = 1\n",
      "temp[j+1] =  0\n",
      "2nd loop =  [1, 1]\n",
      "[0, 1, 1, 0]\n",
      "temp[j] = 0\n",
      "temp[j+1] =  1\n",
      "2nd loop =  [1]\n",
      "temp[j] = 1\n",
      "temp[j+1] =  1\n",
      "2nd loop =  [1, 2]\n",
      "temp[j] = 1\n",
      "temp[j+1] =  0\n",
      "2nd loop =  [1, 2, 1]\n",
      "[0, 1, 2, 1, 0]\n",
      "temp[j] = 0\n",
      "temp[j+1] =  1\n",
      "2nd loop =  [1]\n",
      "temp[j] = 1\n",
      "temp[j+1] =  2\n",
      "2nd loop =  [1, 3]\n",
      "temp[j] = 2\n",
      "temp[j+1] =  1\n",
      "2nd loop =  [1, 3, 3]\n",
      "temp[j] = 1\n",
      "temp[j+1] =  0\n",
      "2nd loop =  [1, 3, 3, 1]\n",
      "[0, 1, 3, 3, 1, 0]\n",
      "temp[j] = 0\n",
      "temp[j+1] =  1\n",
      "2nd loop =  [1]\n",
      "temp[j] = 1\n",
      "temp[j+1] =  3\n",
      "2nd loop =  [1, 4]\n",
      "temp[j] = 3\n",
      "temp[j+1] =  3\n",
      "2nd loop =  [1, 4, 6]\n",
      "temp[j] = 3\n",
      "temp[j+1] =  1\n",
      "2nd loop =  [1, 4, 6, 4]\n",
      "temp[j] = 1\n",
      "temp[j+1] =  0\n",
      "2nd loop =  [1, 4, 6, 4, 1]\n",
      "FINAL OUTPUT:  [[1], [1, 1], [1, 2, 1], [1, 3, 3, 1], [1, 4, 6, 4, 1]]\n"
     ]
    }
   ],
   "source": [
    "def generate(numRows):\n",
    "\n",
    "    res = [[1]] #simple base case\n",
    "    for i in range(numRows-1): #because we already made one row\n",
    "        temp = [0]+ res[-1] + [0] #just building a new temporary list instead of modifying original list\n",
    "        row = []\n",
    "        print(temp)\n",
    "        for j in range(len(res[-1])+1): #length of this row is, previous row + 1 \n",
    "            print(\"temp[j] =\", temp[j])\n",
    "            print(\"temp[j+1] = \", temp[j+1])\n",
    "            row.append(temp[j]+temp[j+1])\n",
    "            print(\"2nd loop = \", row)\n",
    "        res.append(row)\n",
    "\n",
    "    return print(\"FINAL OUTPUT: \", res)\n",
    "\n",
    "generate(numRows=5)"
   ]
  },
  {
   "cell_type": "code",
   "execution_count": null,
   "metadata": {},
   "outputs": [],
   "source": []
  }
 ],
 "metadata": {
  "kernelspec": {
   "display_name": "venv1",
   "language": "python",
   "name": "python3"
  },
  "language_info": {
   "codemirror_mode": {
    "name": "ipython",
    "version": 3
   },
   "file_extension": ".py",
   "mimetype": "text/x-python",
   "name": "python",
   "nbconvert_exporter": "python",
   "pygments_lexer": "ipython3",
   "version": "3.11.6"
  }
 },
 "nbformat": 4,
 "nbformat_minor": 2
}
