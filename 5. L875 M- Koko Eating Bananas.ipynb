{
 "cells": [
  {
   "cell_type": "code",
   "execution_count": 2,
   "metadata": {},
   "outputs": [
    {
     "data": {
      "text/plain": [
       "4"
      ]
     },
     "execution_count": 2,
     "metadata": {},
     "output_type": "execute_result"
    }
   ],
   "source": [
    "import math\n",
    "def minEatingSpeed(piles, h):\n",
    "    \"\"\"\n",
    "    :type piles: List[int]\n",
    "    :type h: int\n",
    "    :rtype: int\n",
    "\n",
    "    this code will use binary search. So we need to find least number of speed monkey can eat all the bananas before guard comes. \n",
    "    there are total n piles of banaans\n",
    "    monkey can eat some bananas in 1 hour i.e., k bananas in 1 hr if pile is finished in 1hr money waits for that hour ot finish and then moves to next hour. \n",
    "    \n",
    "    guard comes in \"h\" hours and h is always greater than len(piles)\n",
    "    speed of monkey that we need to find is \"k\"\n",
    "    k is always in the range of 1-Max(piles)\n",
    "    so in this case: of example\n",
    "    \n",
    "    piles = [3,6,7,11]\n",
    "    h = 8\n",
    "    in hour 1, koko should eat 3 bananas....\n",
    "    k = 1,2,3,4,5,6,7,8,9,10,11\n",
    "    if k = 11 then monkey will definitely eats all the bananas in len(piles) time which will always be less than h. so 11 will be one ans but we need to find mimimum answer\n",
    "    so in this manner if we use binary search to find the speed that is less than hours, we find many solutions but we need to return the minimum solution so yes binary search is best for this\n",
    "    \"\"\"\n",
    "    \n",
    "    l = 1\n",
    "    r = max(piles)\n",
    "    res = r # this will atleast work\n",
    "    \n",
    "    while l <= r:\n",
    "        k = (l+r)//2\n",
    "        hours = 0\n",
    "        for p in piles:\n",
    "            hours += math.ceil(p/k) # this rounds off the value to nearest 1, if value is 2.6 it will round off to 3 and 2.5 also to 3\n",
    "\n",
    "        if hours<= h:\n",
    "            res = min(res, k)\n",
    "            r = k-1\n",
    "        else:\n",
    "            l = k+1\n",
    "\n",
    "    return res\n",
    "\n",
    "piles = [3,6,7,11]\n",
    "h = 8\n",
    "minEatingSpeed(piles,h)"
   ]
  },
  {
   "cell_type": "code",
   "execution_count": null,
   "metadata": {},
   "outputs": [],
   "source": []
  }
 ],
 "metadata": {
  "kernelspec": {
   "display_name": "venv1",
   "language": "python",
   "name": "python3"
  },
  "language_info": {
   "codemirror_mode": {
    "name": "ipython",
    "version": 3
   },
   "file_extension": ".py",
   "mimetype": "text/x-python",
   "name": "python",
   "nbconvert_exporter": "python",
   "pygments_lexer": "ipython3",
   "version": "3.11.6"
  }
 },
 "nbformat": 4,
 "nbformat_minor": 2
}
