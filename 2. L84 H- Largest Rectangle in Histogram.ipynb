{
 "cells": [
  {
   "cell_type": "markdown",
   "metadata": {},
   "source": [
    "Hard\n",
    "https://leetcode.com/problems/largest-rectangle-in-histogram/description/\n",
    "- Array\n",
    "- stack\n",
    "- Monotonic Stack"
   ]
  },
  {
   "cell_type": "code",
   "execution_count": 1,
   "metadata": {},
   "outputs": [
    {
     "data": {
      "text/plain": [
       "10"
      ]
     },
     "execution_count": 1,
     "metadata": {},
     "output_type": "execute_result"
    }
   ],
   "source": [
    "def largestRectangleArea(heights):\n",
    "        \"\"\"\n",
    "        :type heights: List[int]\n",
    "        :rtype: int\n",
    "        \"\"\"\n",
    "\n",
    "        maxArea = 0\n",
    "        stack = [] # pair = (index, height)\n",
    "\n",
    "        for i, h in enumerate(heights): \n",
    "            # enumerate helps to have index and value at same time\n",
    "            start = i \n",
    "            #i = index, h= heights, hence start = index at current i, \n",
    "            while stack and stack[-1][1]>h: \n",
    "                #while stack is not empty and stack is top value in stack and if its height is greater than the stack we reached earlier then we need to pop it and check if the max rectangle we can create from that height and we have to extend the current height that we are at from backwards\n",
    "    \n",
    "                index, height = stack.pop() \n",
    "                #so we are popping both index and height if the new height is more than previous height\n",
    "                maxArea = max(maxArea, height * (i-index))  # width = i-index\n",
    "                #here we are checking new max are a while adding new area of the rect after adding new height and the formula is to calculate area\n",
    "                start =  index # as since we know this height is greater than current height then we can extend our current start index backwards to the index we just popped\n",
    "            stack.append((start, h)) #we are gonna add the pair start index and the height that we are visitng right now\n",
    "\n",
    "        for i, h in stack: #there might be some entries in stack left, so this can extend to all the way of histogram\n",
    "            maxArea = max(maxArea, h*(len(heights)-i))  # update max area width = (len(heights)-1)\n",
    "        return maxArea\n",
    "    \n",
    "heights = [2,1,5,6,2,3]\n",
    "largestRectangleArea(heights)"
   ]
  },
  {
   "cell_type": "code",
   "execution_count": null,
   "metadata": {},
   "outputs": [],
   "source": []
  }
 ],
 "metadata": {
  "kernelspec": {
   "display_name": "venv1",
   "language": "python",
   "name": "python3"
  },
  "language_info": {
   "codemirror_mode": {
    "name": "ipython",
    "version": 3
   },
   "file_extension": ".py",
   "mimetype": "text/x-python",
   "name": "python",
   "nbconvert_exporter": "python",
   "pygments_lexer": "ipython3",
   "version": "3.11.6"
  }
 },
 "nbformat": 4,
 "nbformat_minor": 2
}
